{
 "cells": [
  {
   "cell_type": "code",
   "execution_count": 15,
   "id": "b88fc7ed",
   "metadata": {},
   "outputs": [],
   "source": [
    "import cv2"
   ]
  },
  {
   "cell_type": "code",
   "execution_count": 33,
   "id": "021a1af5",
   "metadata": {},
   "outputs": [
    {
     "name": "stdout",
     "output_type": "stream",
     "text": [
      "[1, 2, 3]\n",
      "[1, 2, 3, 1, 2, 3, 1, 2, 3]\n",
      "[None, None, None]\n",
      "[1, 2, ['Life', 'is'], 'aa']\n",
      "aa\n",
      "[1, 2, ['Life', 'is', 123], 'aa']\n",
      "[2, ['Life', 'is', 123]]\n",
      "[3, 1, 2, 3, 1, 2]\n",
      "[3, 3, 3]\n"
     ]
    }
   ],
   "source": [
    "a=[]\n",
    "b=[1,2,3]\n",
    "c=['Life','is','too','short']\n",
    "d=[1,2,'Life','is']\n",
    "e=[1,2,['Life','is']]\n",
    "e.append(\"aa\")\n",
    "print(a+b)\n",
    "print(3*b)\n",
    "print([None]*3)\n",
    "print(e)\n",
    "print(e[-1])\n",
    "e[2].append(123)\n",
    "print(e)\n",
    "f=e[1:3]\n",
    "print(f)\n",
    "print((3*b)[2:8])\n",
    "print(3*b[2:8])\n"
   ]
  },
  {
   "cell_type": "code",
   "execution_count": 46,
   "id": "3532740b",
   "metadata": {},
   "outputs": [
    {
     "name": "stdout",
     "output_type": "stream",
     "text": [
      "[3, 2, 3]\n",
      "b:\n",
      "123\n",
      "123\n"
     ]
    }
   ],
   "source": [
    "a=[1,2,3]\n",
    "a[0]=3\n",
    "print(a) #3,2,3\n",
    "b=0\n",
    "print(\"b:\")\n",
    "b=input()\n",
    "print(b)"
   ]
  },
  {
   "cell_type": "code",
   "execution_count": 58,
   "id": "4b29f4f2",
   "metadata": {
    "scrolled": true
   },
   "outputs": [
    {
     "name": "stdout",
     "output_type": "stream",
     "text": [
      "5\n",
      "[1, 2, 3, 4]\n",
      "3\n"
     ]
    }
   ],
   "source": [
    "a=[1,2,3,4,5,10,6]\n",
    "print(a.pop())\n",
    "print(a)\n",
    "print(a.index(4))"
   ]
  },
  {
   "cell_type": "code",
   "execution_count": null,
   "id": "e74b2406",
   "metadata": {},
   "outputs": [],
   "source": []
  }
 ],
 "metadata": {
  "kernelspec": {
   "display_name": "Python 3 (ipykernel)",
   "language": "python",
   "name": "python3"
  },
  "language_info": {
   "codemirror_mode": {
    "name": "ipython",
    "version": 3
   },
   "file_extension": ".py",
   "mimetype": "text/x-python",
   "name": "python",
   "nbconvert_exporter": "python",
   "pygments_lexer": "ipython3",
   "version": "3.9.7"
  }
 },
 "nbformat": 4,
 "nbformat_minor": 5
}
