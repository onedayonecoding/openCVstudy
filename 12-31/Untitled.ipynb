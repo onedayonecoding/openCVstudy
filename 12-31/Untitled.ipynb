{
 "cells": [
  {
   "cell_type": "code",
   "execution_count": 3,
   "id": "3eb29546",
   "metadata": {},
   "outputs": [
    {
     "name": "stdout",
     "output_type": "stream",
     "text": [
      "[[0 0 0]\n",
      " [0 0 0]\n",
      " [0 0 0]]\n",
      "[[1 1 1]\n",
      " [1 1 1]\n",
      " [1 1 1]]\n",
      "[[0 1 2]\n",
      " [3 4 5]\n",
      " [6 7 8]]\n"
     ]
    }
   ],
   "source": [
    "import cv2\n",
    "import numpy as np\n",
    "\n",
    "src_zeros = np.zeros([3,3],dtype=np.uint8)\n",
    "src_ones = np.ones([3,3],dtype=np.uint8)\n",
    "src_range = np.arange(9,dtype=np.uint8).reshape(3,3)\n",
    "\n",
    "print(src_zeros)\n",
    "print(src_ones)\n",
    "print(src_range)\n"
   ]
  },
  {
   "cell_type": "code",
   "execution_count": 4,
   "id": "4c66f594",
   "metadata": {},
   "outputs": [
    {
     "name": "stdout",
     "output_type": "stream",
     "text": [
      "[[0 1 0]\n",
      " [1 0 1]\n",
      " [0 1 0]]\n"
     ]
    }
   ],
   "source": [
    "import cv2\n",
    "dst = cv2.bitwise_and(src_ones,src_range, mask=None)\n",
    "print(dst)"
   ]
  },
  {
   "cell_type": "code",
   "execution_count": 9,
   "id": "5f594caa",
   "metadata": {},
   "outputs": [
    {
     "name": "stdout",
     "output_type": "stream",
     "text": [
      "[[1.25]\n",
      " [0.75]]\n",
      "True\n"
     ]
    }
   ],
   "source": [
    "import numpy as np\n",
    "line =np.array([[3,-1],[1,1]],dtype = np.float32)\n",
    "answer = np.array([3,2],dtype=np.float32)\n",
    "\n",
    "success, lu = cv2.solve(line,answer,cv2.DECOMP_LU)\n",
    "print(lu)\n",
    "print(success)"
   ]
  },
  {
   "cell_type": "code",
   "execution_count": null,
   "id": "ec380576",
   "metadata": {},
   "outputs": [],
   "source": []
  }
 ],
 "metadata": {
  "kernelspec": {
   "display_name": "Python 3 (ipykernel)",
   "language": "python",
   "name": "python3"
  },
  "language_info": {
   "codemirror_mode": {
    "name": "ipython",
    "version": 3
   },
   "file_extension": ".py",
   "mimetype": "text/x-python",
   "name": "python",
   "nbconvert_exporter": "python",
   "pygments_lexer": "ipython3",
   "version": "3.9.7"
  }
 },
 "nbformat": 4,
 "nbformat_minor": 5
}
