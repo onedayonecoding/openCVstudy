{
 "cells": [
  {
   "cell_type": "code",
   "execution_count": null,
   "id": "d67861de",
   "metadata": {},
   "outputs": [],
   "source": [
    "x=29\n",
    "dic={'name':'정택구','name':x,'birth':'6월 20일'}\n",
    "print(dic)"
   ]
  },
  {
   "cell_type": "code",
   "execution_count": null,
   "id": "521aca36",
   "metadata": {},
   "outputs": [],
   "source": [
    "x=29\n",
    "dic={'name':'정택구','age':x,'birth':'6월 20일'}\n",
    "print(dic.keys())\n",
    "print(list(dic.keys()))\n",
    "print(list(dic.keys())[2])\n",
    "print()\n",
    "for i in dic.keys():\n",
    "    print(i)"
   ]
  },
  {
   "cell_type": "code",
   "execution_count": null,
   "id": "52b0b149",
   "metadata": {},
   "outputs": [],
   "source": [
    "x=29\n",
    "dic={'name':'정택구','age':x,'birth':'6월 20일'}\n",
    "print(dic.values())\n",
    "print(list(dic.values()))\n",
    "print(list(dic.values())[2])\n",
    "print()\n",
    "for i in dic.values():\n",
    "    print(i)"
   ]
  },
  {
   "cell_type": "code",
   "execution_count": null,
   "id": "87cc814a",
   "metadata": {},
   "outputs": [],
   "source": [
    "\n",
    "dic={'name':'정택구','age':29,'birth':'6월 20일'}\n",
    "\n",
    "print(dic.get('aaa','not found'))\n",
    "print('name' in dic)\n",
    "print('ddd' in dic)"
   ]
  },
  {
   "cell_type": "code",
   "execution_count": null,
   "id": "8ae32cef",
   "metadata": {},
   "outputs": [],
   "source": [
    "import numpy as np\n",
    "\n",
    "array = np.array([[1,2,3],[4,5,6]])\n",
    "print(array.ndim) #차원\n",
    "print(array.shape)#행렬\n",
    "print(array.dtype)#데이터"
   ]
  },
  {
   "cell_type": "code",
   "execution_count": null,
   "id": "8a874c4e",
   "metadata": {},
   "outputs": [],
   "source": [
    "import numpy as np\n",
    "a=np.arange(0,100.1,10)\n",
    "print(a)\n",
    "b=np.zeros([3,3])\n",
    "print(b)\n",
    "b=np.ones([3,3])\n",
    "print(b)\n",
    "b=np.full([3,3],'z')\n",
    "print(b)"
   ]
  },
  {
   "cell_type": "code",
   "execution_count": null,
   "id": "090344a2",
   "metadata": {},
   "outputs": [],
   "source": [
    "import numpy as np\n",
    "array1=np.arange(1,4)\n",
    "array2=np.array([[1,2],\n",
    "                 [3,4]])\n",
    "array3=np.array([[[1,2],[0,4]],\n",
    "                 [[5,6],[7,8]]])\n",
    "print(array1)\n",
    "print(array2)\n",
    "print(array3[1][0][1])\n",
    "for i in array3[0]:\n",
    "    for j in i:\n",
    "        print(j)\n",
    "for i in array3[0][1]:\n",
    "    print(i)"
   ]
  },
  {
   "cell_type": "code",
   "execution_count": null,
   "id": "c5c1f0ff",
   "metadata": {},
   "outputs": [],
   "source": [
    "import numpy as np   #::은 스탭\n",
    "array = np.array([[1,2,3,4,5],\n",
    "                 [6,7,8,9,10],\n",
    "                 [11,12,13,14,15],\n",
    "                 [16,17,18,19,20],\n",
    "                 [21,22,23,24,25],\n",
    "                 [26,27,28,29,30],\n",
    "                 [31,32,33,34,35]])\n",
    "print(array[1::3])\n",
    "print(array[2:,1::2]) #12,17\n"
   ]
  },
  {
   "cell_type": "code",
   "execution_count": null,
   "id": "3e7cd02a",
   "metadata": {},
   "outputs": [],
   "source": [
    "import numpy as np\n",
    "array=np.arange(9)\n",
    "axis1=array[np.newaxis]\n",
    "axis2=array[:,np.newaxis]\n",
    "\n",
    "print(axis1)\n",
    "print(axis2)"
   ]
  },
  {
   "cell_type": "code",
   "execution_count": null,
   "id": "2f2d34ee",
   "metadata": {},
   "outputs": [],
   "source": [
    "import numpy as np\n",
    "\n",
    "array =np.arange(12).reshape(3,-1)\n",
    "\n",
    "flat1=array.flatten(order='F')\n",
    "flat2 = array.ravel()\n",
    "print(array)\n",
    "print(flat1)\n",
    "print(flat2)"
   ]
  },
  {
   "cell_type": "code",
   "execution_count": null,
   "id": "ca8aba31",
   "metadata": {},
   "outputs": [],
   "source": [
    "import numpy as np\n",
    "\n",
    "array1 = np.arange(6).reshape(2,3)\n",
    "array2 = np.arange(6,12).reshape(2,3)\n",
    "\n",
    "merge1 = np.stack([array1,array2], axis=0)\n",
    "merge2 = np.stack([array1,array2], axis=-1)\n",
    "\n",
    "print(array1)\n",
    "print(array2)\n",
    "\n",
    "print(merge1)\n",
    "print(merge2)\n"
   ]
  },
  {
   "cell_type": "code",
   "execution_count": 2,
   "id": "57fde19b",
   "metadata": {},
   "outputs": [],
   "source": [
    "import cv2\n",
    "import numpy as np\n",
    "\n",
    "image = cv2.imread(\"mountain.jpg\")\n",
    "gray = cv2.cvtColor(image,cv2.COLOR_RGB2GRAY)\n",
    "result=np.zeros((image.shape[0],256),dtype=np.uint8)\n",
    "#print(result)\n",
    "#print(image.shape)\n",
    "#print(result.shape)\n",
    "\n",
    "hist = cv2.calcHist([image],[0],None,[256],[0,256])\n",
    "\n",
    "cv2.normalize(hist,hist,0,255,cv2.NORM_MINMAX)\n",
    "# print(hist)\n",
    "\n",
    "for x,y in enumerate(hist):\n",
    "    cv2.line(result,(int(x),image.shape[0]),(int(x),image.shape[0]-int(y)),255)\n",
    "    \n",
    "dst = np.hstack([image[:,:,0],result])\n",
    "cv2.namedWindow('dst',flags=cv2.WINDOW_NORMAL)\n",
    "cv2.imshow(\"dst\",dst)\n",
    "cv2.waitKey(0)\n",
    "cv2.destroyAllWindows()\n",
    "    "
   ]
  },
  {
   "cell_type": "code",
   "execution_count": 12,
   "id": "11b4d278",
   "metadata": {},
   "outputs": [],
   "source": [
    "import cv2\n",
    "import numpy as np\n",
    "\n",
    "src = cv2.imread(\"crow.jpg\")\n",
    "dst = cv2.cvtColor(src,cv2.COLOR_BGR2HSV)\n",
    "\n",
    "cv2.imshow(\"dst\",dst)\n",
    "cv2.waitKey(0)\n",
    "cv2.destroyAllWindows()"
   ]
  },
  {
   "cell_type": "code",
   "execution_count": 8,
   "id": "98801c64",
   "metadata": {},
   "outputs": [
    {
     "name": "stdout",
     "output_type": "stream",
     "text": [
      "True\n"
     ]
    }
   ],
   "source": [
    "import cv2\n",
    "import numpy as np\n",
    "\n",
    "img = np.zeros((480,640,3),dtype=np.uint8)\n",
    "\n",
    "save = cv2.imwrite(\"CV.jpeg\",img, (cv2.IMWRITE_JPEG_QUALITY,100,cv2.IMWRITE_JPEG_PROGRESSIVE,1))\n",
    "print(save)"
   ]
  },
  {
   "cell_type": "code",
   "execution_count": 5,
   "id": "2a032094",
   "metadata": {},
   "outputs": [],
   "source": [
    "import cv2\n",
    "import numpy as np\n",
    "\n",
    "def onChangeBlue(pos):\n",
    "    global b\n",
    "    b=pos\n",
    "    cv2.imshow(\"Palette\",createImage(b,g,r))\n",
    "\n",
    "def createImage(b,g,r):\n",
    "    return np.full((500,500,3),(b,g,r),dtype=np.uint8)\n",
    "\n",
    "b,g,r=0,0,0\n",
    "cv2.namedWindow(\"Palette\")\n",
    "cv2.createTrackbar(\"Blue\",\"Palette\",55,255,onChangeBlue)\n",
    "cv2.createTrackbar(\"Green\",\"Palette\",0,255,lambda x:x)\n",
    "cv2.createTrackbar(\"Red\",\"Palette\",0,255,lambda x:x)\n",
    "\n",
    "while True :\n",
    "    g=cv2.getTrackbarPos(\"Green\",\"Palette\")\n",
    "    r=cv2.getTrackbarPos(\"Red\",\"Palette\")\n",
    "    \n",
    "    cv2.imshow(\"Palette\",createImage(b,g,r))\n",
    "    if(cv2.waitKey(33)&0xFF==ord('q')): break\n",
    "        \n",
    "cv2.destroyAllWindows()"
   ]
  },
  {
   "cell_type": "code",
   "execution_count": 27,
   "id": "4dc9c707",
   "metadata": {},
   "outputs": [],
   "source": [
    "import numpy as np\n",
    "import cv2\n",
    "\n",
    "img = np.zeros((768, 1366, 3), dtype = np.uint8)\n",
    "\n",
    "cv2.line(img, (100, 100), (1200, 100), (0, 0, 255), 3, cv2.LINE_AA)\n",
    "cv2.circle(img, (300, 300), 50, (0, 255, 0), cv2.FILLED, cv2.LINE_4)\n",
    "cv2.rectangle(img, (500, 200), (1000, 400), (255, 0, 0), 5, cv2.LINE_8)\n",
    "cv2.ellipse(img, (1200, 300), (100, 50), 0, 90, 180, (255, 255, 0), 2)\n",
    "\n",
    "pts1 = np.array([[[100, 500], [300, 500], [200, 600]], [[400, 500], [500, 500], [600, 700]]])\n",
    "pts2 = np.array([[700, 500], [800, 500], [700, 600]])\n",
    "cv2.polylines(img, pts1, True, (0, 255, 255), 10)\n",
    "cv2.fillPoly(img, [pts2], (255, 0, 255), cv2.LINE_AA)\n",
    "\n",
    "cv2.putText(img, \"OpenCV\", (900, 600), cv2.FONT_HERSHEY_COMPLEX | cv2.FONT_ITALIC, 2, (255, 255, 255), 3)\n",
    "\n",
    "cv2.imshow(\"img\", img)\n",
    "cv2.waitKey(0)\n",
    "cv2.destroyAllWindows()"
   ]
  },
  {
   "cell_type": "code",
   "execution_count": 24,
   "id": "e615a076",
   "metadata": {},
   "outputs": [],
   "source": [
    "import cv2\n",
    "import numpy as np\n",
    "\n",
    "one = cv2.imread(\"one.jpg\")\n",
    "two = cv2.imread(\"two.jpg\")\n",
    "three = cv2.imread(\"three.jpg\")\n",
    "four = cv2.imread(\"four.jpg\")\n",
    "\n",
    "horizontal1 = np.full((20,one.shape[1],3),[0,0,0],dtype=np.uint8)\n",
    "horizontal2 = np.full((20,two.shape[1],3),[0,0,0],dtype=np.uint8)\n",
    "horizontal3 = np.full((20,three.shape[1],3),[0,0,0],dtype=np.uint8)\n",
    "horizontal4 = np.full((20,four.shape[1],3),[0,0,0],dtype=np.uint8)\n",
    "\n",
    "# left = cv2.vconcat((one,horizontal1,three))\n",
    "# right = np.vstack((two,horizontal2,four))\n",
    "left = np.vstack((one,horizontal1,three))\n",
    "right = cv2.vconcat((two,horizontal2,four))\n",
    "\n",
    "vertical=np.full((left.shape[0],50,3),0,dtype=np.uint8)\n",
    "\n",
    "dst = cv2.hconcat((left,vertical,right))\n",
    "\n",
    "cv2.imshow(\"dst\",dst)\n",
    "cv2.waitKey()\n",
    "cv2.destroyAllWindows()"
   ]
  },
  {
   "cell_type": "code",
   "execution_count": 4,
   "id": "d28c80fe",
   "metadata": {},
   "outputs": [],
   "source": [
    "import cv2\n",
    "capture =cv2.VideoCapture(\"Star.mp4\")\n",
    "while True:\n",
    "    ret,frame=capture.read()\n",
    "    if(capture.get(cv2.CAP_PROP_POS_FRAMES)==capture.get(cv2.CAP_PROP_FRAME_COUNT)):\n",
    "        capture.open(\"Star.mp4\")\n",
    "#     if (ret==False): break\n",
    "    cv2.imshow(\"VideoFrame\",frame)\n",
    "    if (cv2.waitKey(500)==ord('q')):break\n",
    "    \n",
    "\n",
    "capture.release()\n",
    "cv2.destroyAllWindows()"
   ]
  },
  {
   "cell_type": "code",
   "execution_count": 11,
   "id": "7eb19fa4",
   "metadata": {},
   "outputs": [],
   "source": [
    "capture = cv2.VideoCapture(0)\n",
    "capture.set(cv2.CAP_PROP_FRAME_WIDTH,1920)\n",
    "capture.set(cv2.CAP_PROP_FRAME_HEIGHT,1440)\n",
    "\n",
    "while True :\n",
    "    ret,frame=capture.read()\n",
    "    if (ret==True):\n",
    "        cv2.imshow(\"VideoFrame\",frame)\n",
    "        if ( cv2.waitKey(33) == ord('q') ):break\n",
    "    else:\n",
    "        break\n",
    "capture.release()\n",
    "cv2.destroyAllWindows()"
   ]
  },
  {
   "cell_type": "code",
   "execution_count": 4,
   "id": "fffca048",
   "metadata": {},
   "outputs": [
    {
     "name": "stdout",
     "output_type": "stream",
     "text": [
      "3 (739, 600, 3) uint8\n"
     ]
    }
   ],
   "source": [
    "import cv2\n",
    "\n",
    "src = cv2.imread(\"OpenCV_Logo.png\")\n",
    "print(src.ndim,src.shape, src.dtype)\n",
    "\n",
    "cv2.namedWindow(\"window_name\")\n",
    "\n",
    "cv2.resizeWindow(\"window_name\",1,2)\n",
    "cv2.imshow(\"window_name\",src)\n",
    "\n",
    "cv2.waitKey(0)\n",
    "\n",
    "cv2.destroyAllWindows()"
   ]
  },
  {
   "cell_type": "code",
   "execution_count": null,
   "id": "fe4e91a0",
   "metadata": {},
   "outputs": [],
   "source": [
    "import numpy as np\n",
    "\n",
    "array =np.zeros((1280,1920,3),np.uint8)\n",
    "x,y,w,h=100,100,300,300\n",
    "\n",
    "roi=array[x:x+w,y:y+300]\n",
    "\n",
    "coi=array[:,:,1]\n",
    "print(array.shape)\n",
    "print(roi.shape)\n",
    "print(coi.shape)"
   ]
  },
  {
   "cell_type": "code",
   "execution_count": null,
   "id": "25124134",
   "metadata": {},
   "outputs": [],
   "source": [
    "import numpy as np\n",
    "\n",
    "array1=np.array([1,2,3,4]).reshape(2,2)\n",
    "array2=np.array([1.5,2.5])\n",
    "\n",
    "print(array1+array2)"
   ]
  },
  {
   "cell_type": "code",
   "execution_count": null,
   "id": "1ae97790",
   "metadata": {},
   "outputs": [],
   "source": [
    "import numpy as np\n",
    "\n",
    "array = np.arange(10).reshape(2,5)\n",
    "\n",
    "detach1=np.split(array,2,axis=0)\n",
    "detach2=np.split(array,[2,3],axis=1)\n",
    "\n",
    "print(detach1)\n",
    "print(detach1[1])\n",
    "print(detach2)"
   ]
  },
  {
   "cell_type": "code",
   "execution_count": null,
   "id": "225d9acf",
   "metadata": {},
   "outputs": [],
   "source": [
    "import numpy as np\n",
    "array = np.arange(16)\n",
    "reshape1 = array.reshape(2,2,4)  #(z,y,x)\n",
    "reshape2 = np.reshape(array,(4,-1),order='F')\n",
    "reshape3 = np.reshape(array,(4,-1),order='C')\n",
    "reshape4 = np.reshape(array,(4,-1),order='A')\n",
    "print(reshape1)\n",
    "print(reshape2)\n",
    "print(reshape3)\n",
    "print(reshape4)"
   ]
  },
  {
   "cell_type": "code",
   "execution_count": null,
   "id": "2dbcf9f3",
   "metadata": {},
   "outputs": [],
   "source": [
    "import numpy as np\n",
    "array1=np.array([[1,2,3],[4,5,6]])\n",
    "array2=np.array([1,2,3],dtype=complex,ndmin=3) #complex 복소수 ndmin 차원수는?\n",
    "array3=np.array(array1,copy=True)\n",
    "\n",
    "array1[0]=[4,5,6]\n",
    "print(\"array1 :\",array1)\n",
    "print(\"array2[0][0][0] :\",array2[0][0][0])\n",
    "print(\"array2[0][0] :\",array2[0][0])\n",
    "print(\"array2[0] :\",array2[0])\n",
    "print(\"array3 :\",array3)"
   ]
  },
  {
   "cell_type": "code",
   "execution_count": null,
   "id": "bb3b7b0c",
   "metadata": {},
   "outputs": [],
   "source": [
    "set0=set()\n",
    "set1=set([1,2,3,4,5])\n",
    "print(set1)\n",
    "set1=set([1,2,3,4,5,1,2,3])\n",
    "print(set1)\n",
    "set1.add(1)\n",
    "print(set1)\n",
    "set2=set([2,5,4,10,22])\n",
    "print(set1.intersection(set2))\n",
    "print(set1 & set2)\n",
    "print(set1.union(set2))\n",
    "print(set1 | set2)\n",
    "print(set1 - set2)\n",
    "\n",
    "set1.update([1,20,33])\n",
    "print(set1)\n",
    "set1.remove(20)\n",
    "print(set1)\n"
   ]
  },
  {
   "cell_type": "code",
   "execution_count": null,
   "id": "9e810e49",
   "metadata": {},
   "outputs": [],
   "source": [
    "x=29\n",
    "dic={'name':'정택구','age':x,'birth':'6월 20일'}\n",
    "print(dic.items())\n",
    "print(list(dic.items()))\n",
    "print(list(dic.items())[2])\n",
    "print()\n",
    "for i in dic.items():\n",
    "    print(i)"
   ]
  },
  {
   "cell_type": "code",
   "execution_count": 14,
   "id": "68dc702a",
   "metadata": {},
   "outputs": [],
   "source": [
    "import cv2\n",
    "\n",
    "src = cv2.imread('tomato.jpg')\n",
    "\n",
    "mv=cv2.split(src)\n",
    "cv2.imshow('ch0',mv[0])\n",
    "cv2.imshow('ch1',mv[1])\n",
    "cv2.imshow('ch2',mv[2])\n",
    "\n",
    "cv2.waitKey(0)\n",
    "cv2.destroyAllWindows()"
   ]
  },
  {
   "cell_type": "code",
   "execution_count": 23,
   "id": "2d432512",
   "metadata": {},
   "outputs": [],
   "source": [
    "import cv2\n",
    "\n",
    "src = cv2.imread('tomato.jpg')\n",
    "hsv =cv2.cvtColor(src,cv2.COLOR_BGR2HSV)\n",
    "\n",
    "h,s,v=cv2.split(hsv)\n",
    "h_red = cv2.inRange(h,0,5)\n",
    "lower_red=cv2.inRange(hsv,(0,100,100),(5,255,255))\n",
    "upper_red=cv2.inRange(hsv,(170,100,100),(179,255,255))\n",
    "complete_red=cv2.addWeighted(lower_red,1.0,upper_red,1.0,0.0)\n",
    "\n",
    "dst=cv2.bitwise_and(hsv,hsv,mask=complete_red)\n",
    "dst=cv2.cvtColor(dst,cv2.COLOR_HSV2BGR)\n",
    "\n",
    "cv2.imshow(\"dst\",dst)\n",
    "cv2.waitKey(0)\n",
    "cv2.destroyAllWindows()"
   ]
  },
  {
   "cell_type": "code",
   "execution_count": 3,
   "id": "4ed66c1e",
   "metadata": {},
   "outputs": [],
   "source": [
    "import cv2\n",
    "\n",
    "src = cv2.imread(\"swan.jpg\")\n",
    "src=cv2.cvtColor(src,cv2.COLOR_BGR2GRAY)\n",
    "_,binary = cv2.threshold(src,127,255,cv2.THRESH_BINARY)\n",
    "\n",
    "cv2.imshow(\"binary\",binary)\n",
    "cv2.waitKey(0)\n",
    "cv2.destroyAllWindows()"
   ]
  },
  {
   "cell_type": "code",
   "execution_count": null,
   "id": "37e3d96b",
   "metadata": {},
   "outputs": [],
   "source": []
  }
 ],
 "metadata": {
  "kernelspec": {
   "display_name": "Python 3 (ipykernel)",
   "language": "python",
   "name": "python3"
  },
  "language_info": {
   "codemirror_mode": {
    "name": "ipython",
    "version": 3
   },
   "file_extension": ".py",
   "mimetype": "text/x-python",
   "name": "python",
   "nbconvert_exporter": "python",
   "pygments_lexer": "ipython3",
   "version": "3.9.7"
  }
 },
 "nbformat": 4,
 "nbformat_minor": 5
}
