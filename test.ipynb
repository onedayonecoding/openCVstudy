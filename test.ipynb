{
 "cells": [
  {
   "cell_type": "code",
   "execution_count": 15,
   "id": "b88fc7ed",
   "metadata": {},
   "outputs": [],
   "source": [
    "import cv2"
   ]
  },
  {
   "cell_type": "code",
   "execution_count": 33,
   "id": "021a1af5",
   "metadata": {},
   "outputs": [
    {
     "name": "stdout",
     "output_type": "stream",
     "text": [
      "[1, 2, 3]\n",
      "[1, 2, 3, 1, 2, 3, 1, 2, 3]\n",
      "[None, None, None]\n",
      "[1, 2, ['Life', 'is'], 'aa']\n",
      "aa\n",
      "[1, 2, ['Life', 'is', 123], 'aa']\n",
      "[2, ['Life', 'is', 123]]\n",
      "[3, 1, 2, 3, 1, 2]\n",
      "[3, 3, 3]\n"
     ]
    }
   ],
   "source": [
    "a=[]\n",
    "b=[1,2,3]\n",
    "c=['Life','is','too','short']\n",
    "d=[1,2,'Life','is']\n",
    "e=[1,2,['Life','is']]\n",
    "e.append(\"aa\")\n",
    "print(a+b)\n",
    "print(3*b)\n",
    "print([None]*3)\n",
    "print(e)\n",
    "print(e[-1])\n",
    "e[2].append(123)\n",
    "print(e)\n",
    "f=e[1:3]\n",
    "print(f)\n",
    "print((3*b)[2:8])\n",
    "print(3*b[2:8])\n"
   ]
  },
  {
   "cell_type": "code",
   "execution_count": 46,
   "id": "566e8f74",
   "metadata": {},
   "outputs": [
    {
     "name": "stdout",
     "output_type": "stream",
     "text": [
      "[3, 2, 3]\n",
      "b:\n",
      "123\n",
      "123\n"
     ]
    }
   ],
   "source": [
    "a=[1,2,3]\n",
    "a[0]=3\n",
    "print(a) #3,2,3\n",
    "b=0\n",
    "print(\"b:\")\n",
    "b=input()\n",
    "print(b)"
   ]
  },
  {
   "cell_type": "code",
   "execution_count": 60,
   "id": "59d5c493",
   "metadata": {
    "scrolled": true
   },
   "outputs": [
    {
     "name": "stdout",
     "output_type": "stream",
     "text": [
      "[1, 2, 3, 4, 5, 10, 6]\n",
      "6\n"
     ]
    }
   ],
   "source": [
    "a=[1,2,3,4,5,10,6]\n",
    "print(a)\n",
    "print(a.index(6))"
   ]
  },
  {
   "cell_type": "code",
   "execution_count": 70,
   "id": "0fdc0585",
   "metadata": {},
   "outputs": [
    {
     "ename": "SyntaxError",
     "evalue": "invalid syntax (Temp/ipykernel_13832/1758188926.py, line 3)",
     "output_type": "error",
     "traceback": [
      "\u001b[1;36m  File \u001b[1;32m\"C:\\Users\\user\\AppData\\Local\\Temp/ipykernel_13832/1758188926.py\"\u001b[1;36m, line \u001b[1;32m3\u001b[0m\n\u001b[1;33m    c=a.del[b]\u001b[0m\n\u001b[1;37m        ^\u001b[0m\n\u001b[1;31mSyntaxError\u001b[0m\u001b[1;31m:\u001b[0m invalid syntax\n"
     ]
    }
   ],
   "source": [
    "a=[1,2,3,4,5]\n",
    "b=[1,2]\n",
    "c=a.del[b]\n",
    "print(c)\n",
    "a.pop()\n",
    "print(a)"
   ]
  },
  {
   "cell_type": "code",
   "execution_count": 75,
   "id": "5898911f",
   "metadata": {},
   "outputs": [
    {
     "name": "stdout",
     "output_type": "stream",
     "text": [
      "3f\n",
      "(1, 2, 3, 1, 2, 3)\n",
      "(1, 1, 1)\n",
      "(1, 1, 2, 3)\n",
      "(1, '1', '2', ('3f', 'fd'))\n",
      "(1, 2, 3, [12, 13])\n"
     ]
    }
   ],
   "source": [
    "t1=()\n",
    "t2=(1,)\n",
    "t3=(1,2,3)\n",
    "t4=1,2,3\n",
    "t5=('1','2',('3f','fd'))\n",
    "print(t5[2][0])\n",
    "print(t3+t4)\n",
    "print(t2*3)\n",
    "print(t2+t3)\n",
    "print(t6)\n",
    "t7=(1,2,3,[12,13])\n",
    "print(t7)"
   ]
  }
 ],
 "metadata": {
  "kernelspec": {
   "display_name": "Python 3 (ipykernel)",
   "language": "python",
   "name": "python3"
  },
  "language_info": {
   "codemirror_mode": {
    "name": "ipython",
    "version": 3
   },
   "file_extension": ".py",
   "mimetype": "text/x-python",
   "name": "python",
   "nbconvert_exporter": "python",
   "pygments_lexer": "ipython3",
   "version": "3.9.7"
  }
 },
 "nbformat": 4,
 "nbformat_minor": 5
}
